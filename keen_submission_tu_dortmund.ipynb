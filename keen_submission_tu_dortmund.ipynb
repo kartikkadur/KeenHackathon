{
 "cells": [
  {
   "cell_type": "markdown",
   "id": "9461c16a",
   "metadata": {},
   "source": [
    "# Keen HACKATHON : AI for automatic process supervision, TU Dortmund\n",
    "\n",
    "### Team Members :\n",
    "* Sourabh Ranade(sourabhranade96@gmail.com)\n",
    "* Prutha Modak (pruthamodak@gmail.com)\n",
    "* Kavyashree Renukachari (kavyashree94v@gmail.com)\n",
    "* Sayali Barve (sayalibarve.040@gmail.com)\n",
    "* Kartik Kadur (karthikkr36@gmail.com)\n",
    "\n",
    "The work done in this notebook is also available as a project in the gitlab repository :\n",
    "\n",
    "[KEEN Hackathon](https://gitlab.com/keenchallenge1/keenchallenge.git)"
   ]
  },
  {
   "cell_type": "markdown",
   "id": "522fc787",
   "metadata": {},
   "source": [
    "#### Packages used in this notebook can be installed from the following cell."
   ]
  },
  {
   "cell_type": "code",
   "execution_count": 1,
   "id": "6cf93d1f",
   "metadata": {},
   "outputs": [
    {
     "name": "stdout",
     "output_type": "stream",
     "text": [
      "Defaulting to user installation because normal site-packages is not writeable\n",
      "Requirement already satisfied: tqdm in /usr/local/lib/python3.7/dist-packages (4.59.0)\n",
      "\u001b[33mWARNING: You are using pip version 21.0.1; however, version 21.1.1 is available.\n",
      "You should consider upgrading via the '/usr/bin/python3 -m pip install --upgrade pip' command.\u001b[0m\n",
      "Defaulting to user installation because normal site-packages is not writeable\n",
      "Requirement already satisfied: numpy in /usr/local/lib/python3.7/dist-packages (1.19.5)\n",
      "\u001b[33mWARNING: You are using pip version 21.0.1; however, version 21.1.1 is available.\n",
      "You should consider upgrading via the '/usr/bin/python3 -m pip install --upgrade pip' command.\u001b[0m\n",
      "Defaulting to user installation because normal site-packages is not writeable\n",
      "Requirement already satisfied: Pillow in /usr/local/lib/python3.7/dist-packages (8.2.0)\n",
      "\u001b[33mWARNING: You are using pip version 21.0.1; however, version 21.1.1 is available.\n",
      "You should consider upgrading via the '/usr/bin/python3 -m pip install --upgrade pip' command.\u001b[0m\n",
      "Defaulting to user installation because normal site-packages is not writeable\n",
      "Looking in links: https://download.pytorch.org/whl/torch_stable.html\n",
      "Requirement already satisfied: torch==1.7.1+cpu in /home/jovyan/.local/lib/python3.7/site-packages (1.7.1+cpu)\n",
      "Requirement already satisfied: torchvision==0.8.2+cpu in /home/jovyan/.local/lib/python3.7/site-packages (0.8.2+cpu)\n",
      "Requirement already satisfied: torchaudio===0.7.2 in /home/jovyan/.local/lib/python3.7/site-packages (0.7.2)\n",
      "Requirement already satisfied: numpy in /usr/local/lib/python3.7/dist-packages (from torch==1.7.1+cpu) (1.19.5)\n",
      "Requirement already satisfied: typing-extensions in /usr/local/lib/python3.7/dist-packages (from torch==1.7.1+cpu) (3.7.4.3)\n",
      "Requirement already satisfied: pillow>=4.1.1 in /usr/local/lib/python3.7/dist-packages (from torchvision==0.8.2+cpu) (8.2.0)\n",
      "\u001b[33mWARNING: You are using pip version 21.0.1; however, version 21.1.1 is available.\n",
      "You should consider upgrading via the '/usr/bin/python3 -m pip install --upgrade pip' command.\u001b[0m\n"
     ]
    }
   ],
   "source": [
    "# install necessary packages if not installed\n",
    "!pip install tqdm\n",
    "!pip install numpy\n",
    "!pip install Pillow\n",
    "!pip install torch==1.7.1+cpu torchvision==0.8.2+cpu torchaudio===0.7.2 -f https://download.pytorch.org/whl/torch_stable.html"
   ]
  },
  {
   "cell_type": "markdown",
   "id": "4a464aff",
   "metadata": {},
   "source": [
    "#### Import necessary packages"
   ]
  },
  {
   "cell_type": "code",
   "execution_count": 1,
   "id": "5ad28f34",
   "metadata": {},
   "outputs": [],
   "source": [
    "from __future__ import print_function, division\n",
    "import os\n",
    "import torch\n",
    "import torch.nn as nn\n",
    "import numpy as np\n",
    "import torch.optim as optim\n",
    "import logging\n",
    "\n",
    "from torch.nn import init\n",
    "from PIL import Image\n",
    "from torch.utils.data import Dataset, DataLoader\n",
    "from tqdm import tqdm\n",
    "from random import shuffle\n",
    "from torchvision import transforms, utils"
   ]
  },
  {
   "cell_type": "markdown",
   "id": "cd23940d",
   "metadata": {},
   "source": [
    "### Set the proper device for execution\n",
    "Set the proper device for moving the tensors and model while training/evaluation"
   ]
  },
  {
   "cell_type": "code",
   "execution_count": 3,
   "id": "80fc8508",
   "metadata": {},
   "outputs": [
    {
     "data": {
      "text/plain": [
       "'cpu'"
      ]
     },
     "execution_count": 3,
     "metadata": {},
     "output_type": "execute_result"
    }
   ],
   "source": [
    "device = 'cuda' if torch.cuda.is_available() else 'cpu'\n",
    "device"
   ]
  },
  {
   "cell_type": "markdown",
   "id": "34183c53",
   "metadata": {},
   "source": [
    "### Index your labels"
   ]
  },
  {
   "cell_type": "code",
   "execution_count": 4,
   "id": "afab05b1",
   "metadata": {},
   "outputs": [],
   "source": [
    "label = {\"bad\" : 0, \"good\" : 1}"
   ]
  },
  {
   "cell_type": "markdown",
   "id": "73972344",
   "metadata": {},
   "source": [
    "### Dataloader\n",
    "Below cell defines a dataloader for efficient loading of the dataset. In the training mode, the dataloader applies various data augmentation on the input image so that the model tries to generalize th data better."
   ]
  },
  {
   "cell_type": "code",
   "execution_count": 5,
   "id": "9deef931",
   "metadata": {},
   "outputs": [],
   "source": [
    "class KeenDataloader():\n",
    "    def __init__(self, root, \n",
    "                       labels = {\"Fluten\" : 0, \"Normalzustand\" : 1},\n",
    "                       is_training=False,\n",
    "                       transforms=None):\n",
    "        self.transforms = transforms\n",
    "        self.is_training = is_training\n",
    "        self.images = self.get_paths(root)\n",
    "        # indexed labels with key:vale pairs. Key being the parent folder containing the perticilar class images\n",
    "        self.labels = labels\n",
    "    \n",
    "    def get_paths(self, root):\n",
    "        img_format = ['.jpg', '.png']\n",
    "\n",
    "        dirs = [x[0] for x in os.walk(root, followlinks=True) if not x[0].startswith('.')]\n",
    "        datasets = []\n",
    "        for fdir in dirs:\n",
    "            for el in os.listdir(fdir):\n",
    "                if os.path.isfile(os.path.join(fdir, el)) and \\\n",
    "                not el.startswith('.') and \\\n",
    "                any([el.endswith(ext) for ext in img_format]):\n",
    "                    datasets.append(os.path.join(fdir,el))\n",
    "        shuffle(datasets)\n",
    "        return datasets\n",
    "\n",
    "    def __len__(self):\n",
    "        return len(self.images)\n",
    "    \n",
    "    def __getitem__(self, index):\n",
    "        image = self.images[index]\n",
    "        image = Image.open(image)\n",
    "        if self.is_training:\n",
    "            if self.transforms is None:\n",
    "                self.transforms = transforms.Compose([\n",
    "                                                    transforms.Resize((256, 256)),\n",
    "                                                    transforms.RandomAffine([20,50]),\n",
    "                                                    transforms.RandomRotation([30,70]),\n",
    "                                                    transforms.RandomVerticalFlip(0.5),\n",
    "                                                    transforms.RandomHorizontalFlip(0.5),\n",
    "                                                    transforms.ToTensor(),\n",
    "                                                    transforms.Normalize((0.5021, 0.4781, 0.4724), (0.3514, 0.3439, 0.3409)),\n",
    "                                                      ])    \n",
    "        else:\n",
    "            self.transforms = transforms.Compose([transforms.Resize((256, 256)), transforms.ToTensor(),\n",
    "                                                transforms.Normalize((0.5021, 0.4781, 0.4724), (0.3514, 0.3439, 0.3409)),])\n",
    "        image = self.transforms(image)\n",
    "        return {'image' : image, 'label' : torch.tensor(self.labels[os.path.basename(os.path.dirname(self.images[index]))], dtype=torch.int64)}  "
   ]
  },
  {
   "cell_type": "markdown",
   "id": "39e60534",
   "metadata": {},
   "source": [
    "### Dataset mean and standard deviation\n",
    "Below function is used to calculate the mean and standard deviation of the dataset.\n",
    "\n",
    "For this perticular task, the mean and standard deviation was computed to be:\n",
    "Mean : (0.5021, 0.4781, 0.4724), Std : (0.3514, 0.3439, 0.3409), for (r,g,b) channels respectively. "
   ]
  },
  {
   "cell_type": "code",
   "execution_count": 6,
   "id": "eac3d592",
   "metadata": {},
   "outputs": [],
   "source": [
    "def get_mean_and_std(dataloader):\n",
    "    channels_sum, channels_sum_squared, num_batches = 0, 0, 0\n",
    "    for data in tqdm(dataloader):\n",
    "        image = data['image']\n",
    "        channels_sum += torch.mean(image, dim=[0,2,3])\n",
    "        channels_sum_squared += torch.mean(image**2, dim=[0,2,3])\n",
    "        num_batches += 1\n",
    "    \n",
    "    mean = channels_sum / num_batches\n",
    "    std = (channels_sum_squared / num_batches - mean**2)**0.5\n",
    "    logging.info(f\"mean : {mean}, std : {std}\")\n",
    "    return mean, std"
   ]
  },
  {
   "cell_type": "markdown",
   "id": "86a3b4bb",
   "metadata": {},
   "source": [
    "### Model\n",
    "The below cell defines model architecture. The model takes as input the images of size which is a multiple of 64. (We are using a default input shape of 256x256 in our dataloader).\n",
    "\n",
    "### Model Architecture\n",
    "![Model Architecture](https://drive.google.com/uc?export=view&id=1T5tcZlk0ZZv5j5iinWiCSLDz01rcxGma)"
   ]
  },
  {
   "cell_type": "code",
   "execution_count": 2,
   "id": "b454fd2e",
   "metadata": {},
   "outputs": [],
   "source": [
    "from __future__ import division\n",
    "from __future__ import print_function\n",
    "\n",
    "import torch\n",
    "import torch.nn as nn\n",
    "from torch.nn import init\n",
    "import os\n",
    "\n",
    "class ConvBlock(nn.Module):\n",
    "    def __init__(self,\n",
    "                in_channels: int, \n",
    "                out_channels: int,\n",
    "                kernel_size: int=3, \n",
    "                stride: int=1,\n",
    "                padding=0,\n",
    "                bias: bool = True) -> None:\n",
    "        super(ConvBlock, self).__init__()\n",
    "        self.conv = nn.Conv2d(in_channels, out_channels, kernel_size=kernel_size, stride=stride, padding=padding, bias=bias)\n",
    "        self.bn = nn.BatchNorm2d(out_channels)\n",
    "        self.relu = nn.ReLU(inplace=True)\n",
    "    \n",
    "    def forward(self, inp):\n",
    "        x = self.conv(inp)\n",
    "        x = self.bn(x)\n",
    "        return self.relu(x)\n",
    "\n",
    "class KeenModel(nn.Module):\n",
    "    def __init__(self, num_classes, input_shape, factor=4):\n",
    "        super(KeenModel, self).__init__()\n",
    "\n",
    "        input_channels = 3\n",
    "        # initial convolution\n",
    "        self.conv1 = ConvBlock(input_channels, 64//factor, stride=4, padding=1)\n",
    "        self.conv2 = ConvBlock(64//factor, 128 // factor, stride=2, padding=1)\n",
    "        self.conv3 = ConvBlock(128 // factor, 256 // factor, stride=2, padding=1)\n",
    "        self.conv4 = ConvBlock(256 // factor, 512 // factor, stride=2, padding=1)\n",
    "        self.avgpool = nn.AvgPool2d(kernel_size=2)\n",
    "        self.fc1 = nn.Linear((512//factor) * (input_shape//64) * (input_shape//64), 1024)\n",
    "        self.fc2 = nn.Linear(1024, num_classes)\n",
    "        self.relu = nn.ReLU(inplace=True)\n",
    "\n",
    "        for m in self.modules():\n",
    "            if isinstance(m, nn.Conv2d) or isinstance(m, nn.Linear):\n",
    "                if m.bias is not None:\n",
    "                    init.uniform_(m.bias)\n",
    "                init.kaiming_uniform_(m.weight)\n",
    "\n",
    "    def forward(self, x):\n",
    "        x = self.conv1(x)\n",
    "        x = self.conv2(x)\n",
    "        x = self.conv3(x)\n",
    "        x = self.conv4(x)\n",
    "        x = self.avgpool(x)\n",
    "        x = torch.flatten(x, 1)\n",
    "        x = self.relu(self.fc1(x))\n",
    "        x = self.fc2(x)\n",
    "        return x\n",
    "\n",
    "\n",
    "def download_file_from_google_drive(id, destination):\n",
    "    \"\"\"\n",
    "    Downloads file from drive\n",
    "    \"\"\"\n",
    "    import requests\n",
    "    URL = \"https://docs.google.com/uc?export=download\"\n",
    "    session = requests.Session()\n",
    "    response = session.get(URL, params = { 'id' : id }, stream = True)\n",
    "    token = None\n",
    "    for key, value in response.cookies.items():\n",
    "        if key.startswith('download_warning'):\n",
    "            token = value\n",
    "    if token:\n",
    "        params = { 'id' : id, 'confirm' : token }\n",
    "        response = session.get(URL, params = params, stream = True)\n",
    "\n",
    "    CHUNK_SIZE = 32768\n",
    "\n",
    "    with open(destination, \"wb\") as f:\n",
    "        for chunk in response.iter_content(CHUNK_SIZE):\n",
    "            if chunk:\n",
    "                f.write(chunk)\n",
    "\n",
    "def keen_model(pretrained=True, num_classes=2, input_shape=256, factor=4):\n",
    "    \"\"\"\n",
    "    helper function to create model\n",
    "    \"\"\"\n",
    "    try:\n",
    "        model = KeenModel(num_classes, input_shape, factor)\n",
    "        if pretrained:\n",
    "            checkpoint_path = os.path.join(os.getcwd(), \"checkpoint.pth\")\n",
    "            download_file_from_google_drive(\"1R06Oz4ZCcmHu3TGNG38raPfmVFYau2yy\", checkpoint_path)\n",
    "            checkpoint = torch.load(checkpoint_path, map_location='cpu')\n",
    "            if 'state_dict' in checkpoint:\n",
    "                model.load_state_dict(checkpoint['state_dict'], strict=False)\n",
    "    except BaseException as e:\n",
    "        print(\"Error downloading checkpoint. {e}\")\n",
    "        print(\"Please download it manually from the following url : https://drive.google.com/file/d/1R06Oz4ZCcmHu3TGNG38raPfmVFYau2yy/view?usp=sharing\")\n",
    "    return model"
   ]
  },
  {
   "cell_type": "markdown",
   "id": "064ebca2",
   "metadata": {},
   "source": [
    "## Model Testing"
   ]
  },
  {
   "cell_type": "markdown",
   "id": "280b51ad",
   "metadata": {},
   "source": [
    "### Test model using pretrained weights.\n",
    "The pretrained weights for the model is available and unloaded under the google drive link :\n",
    "[checkpoint](https://drive.google.com/file/d/1R06Oz4ZCcmHu3TGNG38raPfmVFYau2yy/view?usp=sharing)\n",
    "\n",
    "\n",
    "To test the models performance using the pretrained weights, please use the function ```test_step(img_dir, ckpt_path)```,\n",
    "defined in the cell below. The function ```test_step(img_dir, ckpt_path)``` accepts the path to the root directory of the test dataset.\n",
    "\n",
    "If the checkpoint is available locally, pass its path as an argument to the ```ckpt_path``` parameter in ```test_step(img_dir, ckpt_path)``` function.\n",
    "\n",
    "If this argument is ```None```, the function tries to download the checkpoint from the google drive link provided above.\n",
    "\n",
    "In our validation process, our model acheved an Validation accuracy of 95 %. See the end of the notebook for plots showing training and validation accuracy."
   ]
  },
  {
   "cell_type": "code",
   "execution_count": 8,
   "id": "029697de",
   "metadata": {
    "scrolled": true
   },
   "outputs": [],
   "source": [
    "test_config = {'batch_size': 16,\n",
    "               'num_workers': 0,\n",
    "               'pin_memory': True, \n",
    "               'drop_last': True}\n",
    "\n",
    "def test_step(img_dir, ckpt_path=None):\n",
    "    device = 'cuda' if torch.cuda.is_available() else 'cpu'\n",
    "    if ckpt_path is not None:\n",
    "        model = KeenModel(2, 256)\n",
    "        # load checkpoint\n",
    "        checkpoint = torch.load(ckpt_path, map_location='cpu')\n",
    "        if 'state_dict' in checkpoint:\n",
    "            model.load_state_dict(checkpoint['state_dict'], strict=False)\n",
    "    else:\n",
    "        model = keen_model(True)\n",
    "    model = model.to(device)\n",
    "    # create criterion\n",
    "    criterion = nn.CrossEntropyLoss().to(device)\n",
    "    # create testset\n",
    "    testset = KeenDataloader(img_dir, labels=label, is_training=False)\n",
    "    testloader = DataLoader(testset, **test_config)\n",
    "    model.eval()\n",
    "    test_loss = 0.0\n",
    "    iteration = 0\n",
    "    correct = 0\n",
    "    total = 0\n",
    "    for data in tqdm(testloader):\n",
    "        iteration+=1\n",
    "        # get the inputs; data is a list of [inputs, labels]\n",
    "        inputs, labels = data['image'].to(device), data['label'].to(device)\n",
    "\n",
    "        # forward + backward + optimize\n",
    "        outputs = model(inputs)\n",
    "        outputs = outputs.squeeze()\n",
    "        loss = criterion(outputs, labels)\n",
    "        total += labels.size(0)\n",
    "        _, predicted = torch.max(outputs, dim=1)\n",
    "        correct += (predicted == labels).sum().item()\n",
    "\n",
    "        test_loss += loss.item()\n",
    "    print('[%5d] Test loss: %.3f, Test Accuracy: %.3f' %\n",
    "                    (iteration, test_loss/(iteration+1e-5), correct/(total+1e-5)))\n",
    "    logging.info(f'Test completed')\n",
    "    return test_loss/(iteration+1e-5), correct/(total+1e-5)"
   ]
  },
  {
   "cell_type": "code",
   "execution_count": 9,
   "id": "a940e4d2",
   "metadata": {},
   "outputs": [
    {
     "name": "stderr",
     "output_type": "stream",
     "text": [
      "100%|██████████| 198/198 [04:22<00:00,  1.33s/it]"
     ]
    },
    {
     "name": "stdout",
     "output_type": "stream",
     "text": [
      "[  198] Test loss: 0.101, Test Accuracy: 0.958\n",
      "0.1012925382737863 0.9577020171789709\n"
     ]
    },
    {
     "name": "stderr",
     "output_type": "stream",
     "text": [
      "\n"
     ]
    }
   ],
   "source": [
    "loss, acc = test_step(\"data/ValidationData\")\n",
    "print(loss, acc)"
   ]
  },
  {
   "cell_type": "markdown",
   "id": "e4af7c17",
   "metadata": {},
   "source": [
    "### Predict on a single image\n",
    "There is a possibility to predict on a single image sample using the ```predict(image_path, ckpt_path)``` function. Just pass the path of the image as an argument and the function returns the predicted label.\n",
    "\n",
    "The loader and index are mapped as follows:\n",
    "* 0 : Fluten\n",
    "* 1 : Normalzustand\n",
    "\n",
    "Again pass the locally downloaded checkpoint path to the ```ckpt_path``` argument to use locally available checkpoint.\n",
    "\n",
    "If this argument is ```None```, the function tries to download the checkpoint from the google drive link provided above."
   ]
  },
  {
   "cell_type": "code",
   "execution_count": 10,
   "id": "4d083988",
   "metadata": {},
   "outputs": [],
   "source": [
    "def predict(image_path, ckpt_path=None):\n",
    "    label = {0 : \"Fluten\", 1: \"Normalzustand\"}\n",
    "    # create model\n",
    "    if ckpt_path is not None:\n",
    "        model = KeenModel(2, 256)\n",
    "        # load checkpoint\n",
    "        checkpoint = torch.load(ckpt_path, map_location='cpu')\n",
    "        if 'state_dict' in checkpoint:\n",
    "            model.load_state_dict(checkpoint['state_dict'], strict=False)\n",
    "    else:\n",
    "        model = keen_model(True)\n",
    "    # basic transformations\n",
    "    transform = transforms.Compose([transforms.Resize((256, 256)), transforms.ToTensor(),\n",
    "                                    transforms.Normalize((0.5021, 0.4781, 0.4724), (0.3514, 0.3439, 0.3409))])\n",
    "    # open image\n",
    "    image = Image.open(image_path)\n",
    "    image = transform(image)\n",
    "    image = torch.unsqueeze(image, dim=0)\n",
    "    model = model.eval() \n",
    "    outputs = model(image)\n",
    "    _, prediction = torch.max(outputs, dim=1)\n",
    "    probablities = torch.nn.functional.softmax(outputs.squeeze(), dim=0)\n",
    "    print(f\"Fluten : {probablities[0]*100} %, Normalzustand : {probablities[1]*100} %\")\n",
    "    return label[int(prediction)]"
   ]
  },
  {
   "cell_type": "code",
   "execution_count": 11,
   "id": "5c589d34",
   "metadata": {},
   "outputs": [
    {
     "name": "stdout",
     "output_type": "stream",
     "text": [
      "Fluten : 100.0 %, Normalzustand : 2.2069306104821607e-10 %\n"
     ]
    },
    {
     "data": {
      "text/plain": [
       "'Fluten'"
      ]
     },
     "execution_count": 11,
     "metadata": {},
     "output_type": "execute_result"
    }
   ],
   "source": [
    "predict(\"data/ValidationData/bad/fluten005339.png\")"
   ]
  },
  {
   "cell_type": "markdown",
   "id": "4ba15da9",
   "metadata": {},
   "source": [
    "## Model Training"
   ]
  },
  {
   "cell_type": "markdown",
   "id": "c65e37b9",
   "metadata": {},
   "source": [
    "### Run Configurations\n",
    "The following block contains the run configurations that can be set while training the model. \n",
    "\n",
    "We have trained the model with the configurations shown below:\n",
    "\n",
    "* 'train_path' : \"path/to/dataroot/Training\",\n",
    "*  'val_path' : \"path/to/dataroot/Validation\",\n",
    "*    'epochs' : 50,\n",
    "*    'lr' : 0.0001,\n",
    "*    'wd' : 0,\n",
    "*    'batch_size' : 16,\n",
    "*    'val_batch_size' : 16,\n",
    "*    'num_workers' : 0,\n",
    "*    'save_root' : \"path/to/savedirectory\",\n",
    "*    'checkpoint' : \"path/to/savedirectory/checkpoint\",\n",
    "*    'logs_root' : \"path/to/savedirectory/logs\",\n",
    "*    'resume' : \"path/to/checkpoint\",\n",
    "*    'print_freq' : 200,\n",
    "*    'save_freq' : 5,\n",
    "*    'val_freq' : 5,\n",
    "*    'initial_eval' : False,\n",
    "*    'is_training' : True\n",
    "\n",
    "Please cheange the values according to your requirements. If checkpoint path is None, the the model is initialized with random initialization."
   ]
  },
  {
   "cell_type": "code",
   "execution_count": 12,
   "id": "26f8349a",
   "metadata": {},
   "outputs": [],
   "source": [
    "config = {\n",
    "    'train_path' : \"data/Training\",\n",
    "    'val_path' : \"data/Validation\",\n",
    "    'epochs' : 20,\n",
    "    'lr' : 0.0001,\n",
    "    'wd' : 0.0001,\n",
    "    'batch_size' : 64,\n",
    "    'val_batch_size' : 64,\n",
    "    'num_workers' : 0,\n",
    "    'save_root' : \"path/to/save/root\",\n",
    "    'checkpoint' : \"path/to/save/root/checkpoint\",\n",
    "    'logs_root' : \"path/to/save/root/logs\",\n",
    "    'resume' : \"path/to/checkpoint\",\n",
    "    'print_freq' : 100,\n",
    "    'save_freq' : 1,\n",
    "    'val_freq' : 2,\n",
    "    'initial_eval' : False,\n",
    "    'is_training' : True,\n",
    "    'lr_factor' : 0.1,\n",
    "    'lr_step_size' : 7,\n",
    "    'start_epoch' : 0,\n",
    "}"
   ]
  },
  {
   "cell_type": "markdown",
   "id": "0b3d8141",
   "metadata": {},
   "source": [
    "### Functions required for training\n",
    "The below cells contain the functions required for training the model\n",
    "\n",
    "### Functions to create dataloaders and model"
   ]
  },
  {
   "cell_type": "code",
   "execution_count": 13,
   "id": "e4044f1a",
   "metadata": {},
   "outputs": [],
   "source": [
    "def create_dataloader(config):\n",
    "    train_set = KeenDataloader(config['train_path'], is_training=True)\n",
    "    val_set = KeenDataloader(config['val_path'], is_training=False)\n",
    "    tkwargs = {'batch_size': config['batch_size'],\n",
    "               'num_workers': config['num_workers'],\n",
    "               'pin_memory': True, 'drop_last': True}\n",
    "    trainloader = DataLoader(train_set, **tkwargs)\n",
    "    tkwargs = {'batch_size': config['val_batch_size'],\n",
    "               'num_workers': config['num_workers'],\n",
    "               'pin_memory': True, 'drop_last': True}\n",
    "    valloader = DataLoader(val_set, **tkwargs)\n",
    "    return trainloader, valloader\n",
    "\n",
    "def create_model_and_optimizer():\n",
    "    model = KeenModel(2, 256).to(device)\n",
    "    criterion = nn.CrossEntropyLoss().to(device)\n",
    "    optimizer = optim.Adam(model.parameters(), lr=config['lr'], weight_decay=config['wd'])\n",
    "\n",
    "    return model, criterion, optimizer"
   ]
  },
  {
   "cell_type": "markdown",
   "id": "94bc0b6e",
   "metadata": {},
   "source": [
    "### Functions to load pretrained weights"
   ]
  },
  {
   "cell_type": "code",
   "execution_count": 14,
   "id": "c21fad41",
   "metadata": {},
   "outputs": [],
   "source": [
    "\n",
    "def load_model(model, optimizer, config):\n",
    "    if config[\"resume\"] is not None : \n",
    "        checkpoint = torch.load(config['resume'], map_location='cpu')\n",
    "        if 'state_dict' in checkpoint:\n",
    "            model.load_state_dict(checkpoint['state_dict'], strict=False)\n",
    "        if 'optimizer' in checkpoint:\n",
    "            optimizer.load_state_dict(checkpoint['optimizer'])"
   ]
  },
  {
   "cell_type": "markdown",
   "id": "22afaa5e",
   "metadata": {},
   "source": [
    "### Functions to perform train step and val step"
   ]
  },
  {
   "cell_type": "code",
   "execution_count": 10,
   "id": "a9bcaaa4",
   "metadata": {},
   "outputs": [],
   "source": [
    "def train_step(model, criterion, optimizer, trainloader, epoch):\n",
    "    running_loss = 0.0\n",
    "    iteration = 0\n",
    "    correct = 0\n",
    "    total = 0\n",
    "    for data in tqdm(trainloader):\n",
    "        iteration+=1\n",
    "        # get the inputs; data is a list of [inputs, labels]\n",
    "        inputs, labels = data['image'].to(device), data['label'].to(device)\n",
    "\n",
    "        # zero the parameter gradients\n",
    "        optimizer.zero_grad()\n",
    "\n",
    "        # forward + backward + optimize\n",
    "        outputs = model(inputs)\n",
    "        outputs = outputs.squeeze()\n",
    "        loss = criterion(outputs, labels)\n",
    "        loss.backward()\n",
    "        optimizer.step()\n",
    "        # calculate acc\n",
    "        total += labels.size(0)\n",
    "        _, predicted = torch.max(outputs, dim=1)\n",
    "        correct += (predicted == labels).sum().item()\n",
    "\n",
    "        # print statistics\n",
    "        running_loss += loss.item()\n",
    "        if iteration % config['print_freq'] == 0:\n",
    "            logging.info('[%d, %5d] loss: %.3f, accuracy: %.3f' %\n",
    "                (epoch + 1, iteration, running_loss/(iteration+1e-5), correct/(total+1e-5)))\n",
    "    logging.info('[%d, %5d] Epoch loss: %.3f, Accuracy: %.3f' %\n",
    "                    (epoch + 1, iteration, running_loss/(iteration+1e-5), correct/(total+1e-5)))\n",
    "    logging.info(f'Epoch {epoch} completed')\n",
    "    return running_loss/(iteration+1e-5), correct/(total+1e-5)\n",
    "\n",
    "def val_step(model, criterion, valloader):\n",
    "    model.eval()\n",
    "    val_loss = 0.0\n",
    "    iteration = 0\n",
    "    correct = 0\n",
    "    total = 0\n",
    "    for data in tqdm(valloader):\n",
    "        iteration+=1\n",
    "        # get the inputs; data is a list of [inputs, labels]\n",
    "        inputs, labels = data['image'].to(device), data['label'].to(device)\n",
    "\n",
    "        # forward + backward + optimize\n",
    "        outputs = model(inputs)\n",
    "        outputs = outputs.squeeze()\n",
    "        loss = criterion(outputs, labels)\n",
    "        total += labels.size(0)\n",
    "        _, predicted = torch.max(outputs, dim=1)\n",
    "        correct += (predicted == labels).sum().item()\n",
    "        val_loss += loss.item()\n",
    "    logging.info('[%5d] Validation loss: %.3f, Validation Accuracy: %.3f' %\n",
    "                    (iteration, val_loss/(iteration+1e-5), correct/(total+1e-5)))\n",
    "    logging.info(f'Validation completed')\n",
    "    return val_loss/(iteration+1e-5), correct/(total+1e-5)"
   ]
  },
  {
   "cell_type": "markdown",
   "id": "43f90eb5",
   "metadata": {},
   "source": [
    "### Function to run train epoch"
   ]
  },
  {
   "cell_type": "code",
   "execution_count": null,
   "id": "b48f3a2c",
   "metadata": {},
   "outputs": [],
   "source": [
    "def train(epochs, model, criterion, optimizer, trainloader, valloader):\n",
    "    metrics = {'train_loss' : [], 'train_acc' : [], 'val_loss' : [], 'val_acc' : []}\n",
    "    model.train()\n",
    "    # le scheduler\n",
    "    scheduler = torch.optim.lr_scheduler.StepLR(optimizer, config['lr_step_size'])\n",
    "    for epoch in range(config['start_epoch'], epochs):\n",
    "        logging.info(f\"Current learning rate : {scheduler.get_last_lr()}\")\n",
    "        # train a single epoch\n",
    "        train_loss, train_acc = train_step(model, criterion, optimizer, trainloader, epoch)\n",
    "        # validation\n",
    "        if epoch % config['val_freq'] == 0:\n",
    "            val_loss, val_accuracy = val_step(model, criterion, valloader)\n",
    "            metrics['val_loss'].append(val_loss)\n",
    "            metrics['val_acc'].append(val_accuracy)\n",
    "        # lr schedule\n",
    "        scheduler.step()\n",
    "        # update metrics\n",
    "        metrics['train_loss'].append(train_loss)\n",
    "        metrics['train_acc'].append(train_acc)\n",
    "        # save model\n",
    "        if epoch % config['save_freq'] == 0:\n",
    "            save_model(model, optimizer, epoch, config)\n",
    "            logging.info(f\"Model saved under : {os.path.join(config['save_root'], f'ckpt_epoch_{epoch}.pth')}\")\n",
    "    # save at the end of epoch\n",
    "    save_model(model, optimizer, epoch, config)\n",
    "    logging.info(f\"Model saved under : {os.path.join(config['save_root'], f'ckpt_epoch_{epoch}.pth')}\")\n",
    "    return metrics\n",
    "\n",
    "def save_model(model, optimizer, epoch, config):\n",
    "    # save checkpoint\n",
    "    model_optim_state = {'epoch': epoch,\n",
    "                         'state_dict': model.state_dict(),\n",
    "                         'optimizer': optimizer.state_dict(),\n",
    "                         }\n",
    "    model_name = os.path.join(\n",
    "        config['checkpoint'], 'ckpt_epoch_%03d_.pth' % (\n",
    "            epoch))\n",
    "    torch.save(model_optim_state, model_name)\n",
    "    logging.info('saved model {}'.format(model_name))"
   ]
  },
  {
   "cell_type": "markdown",
   "id": "4c7c292b",
   "metadata": {},
   "source": [
    "## Steps to train the model\n",
    "Run the below cell to train the model."
   ]
  },
  {
   "cell_type": "code",
   "execution_count": null,
   "id": "ee27bb7f",
   "metadata": {},
   "outputs": [],
   "source": [
    "os.makedirs(config['save_root'], exist_ok=True)\n",
    "os.makedirs(config['logs_root'], exist_ok=True)\n",
    "os.makedirs(config['checkpoint'], exist_ok=True)\n",
    "\n",
    "logging.basicConfig(level=logging.INFO,\n",
    "                filename=os.path.join(config['logs_root'], 'stdout.log'),\n",
    "                format='%(asctime)s %(message)s')\n",
    "logging.info('Run configurations:')\n",
    "for item in config:\n",
    "    logging.info(f\"{item} : {config[item]}\")\n",
    "logging.info(\"Creating dataloaders\")\n",
    "trainloader, valloader = create_dataloader(config)\n",
    "logging.info(\"Creating model, optimizer and criterion functions\")\n",
    "model, criterion, optimizer = create_model_and_optimizer()\n",
    "\n",
    "if config[\"initial_eval\"]:\n",
    "    val_loss = val_step(model, criterion, valloader)\n",
    "logging.info(f\"Training model on {device}:\")\n",
    "metrics = train(config['epochs'], model, criterion, optimizer, trainloader, valloader)\n",
    "with open(os.path.join(config['save_root'], 'metrics.pkl'), 'wb') as pkl:\n",
    "    pickle.dump(metrics, pkl, pickle.HIGHEST_PROTOCOL)\n",
    "logging.info('Finished Training')"
   ]
  },
  {
   "cell_type": "markdown",
   "id": "46d121fb",
   "metadata": {},
   "source": [
    "### Metrics on training.\n",
    "We have trained the model with the following main parameters:\n",
    "* Epochs : 20\n",
    "* Learning rate : 0.0001\n",
    "* Weight decay : 0.0001\n",
    "* Batch Size : 64\n",
    "* Loss : Cross Entropy\n",
    "* Optimizer : Adam\n",
    "\n",
    "The below graphs plots the accuracy and loss plots from the training and validation that was run.\n",
    "\n",
    "The values of accuracy and loss is stored as a python pickled file in the following link : \n",
    "[Metrics Pickled file](https://drive.google.com/file/d/1bfeE9c6u8Q299BFVuawrs5Xd8Ioa8wQu/view?usp=sharing)"
   ]
  },
  {
   "cell_type": "code",
   "execution_count": 3,
   "id": "792156c5",
   "metadata": {},
   "outputs": [
    {
     "data": {
      "image/png": "[encoded data removed]",
      "text/plain": [
       "<Figure size 432x288 with 4 Axes>"
      ]
     },
     "metadata": {
      "needs_background": "light"
     },
     "output_type": "display_data"
    }
   ],
   "source": [
    "import pickle\n",
    "import matplotlib.pyplot as plt\n",
    "\n",
    "metrics_path = os.path.join(os.getcwd(), \"metrics1.pkl\")\n",
    "download_file_from_google_drive(\"1bfeE9c6u8Q299BFVuawrs5Xd8Ioa8wQu\", metrics_path)\n",
    "with open(metrics_path, 'rb') as metrics_file:\n",
    "    metrics = pickle.load(metrics_file)\n",
    "    # plot the graphs\n",
    "    fig, axs = plt.subplots(2, 2)\n",
    "    # plot train acc and train loss\n",
    "    epochs = np.linspace(0, 20, 20)\n",
    "    axs[0,0].plot(epochs, metrics['train_acc'],color = 'blue', label=\"Train Accuracy\")\n",
    "    axs[0,0].set(ylabel='Accuracy')\n",
    "    axs[0, 0].legend()\n",
    "    axs[1,0].plot(epochs, metrics['train_loss'],color = 'red', label=\"Train Loss\")\n",
    "    axs[1,0].set(ylabel='Loss')\n",
    "    axs[1, 0].legend()\n",
    "    axs[0,1].plot(range(0,10,1), metrics['val_acc'], color = 'green', label=\"Validation Accuracy\")\n",
    "    axs[1,0].set(xlabel='Epochs')\n",
    "    axs[0, 1].legend()\n",
    "    axs[1,1].plot(range(0,10,1), metrics['val_loss'], color = 'orange', label=\"Validation Loss\")\n",
    "    axs[1,1].set(xlabel='Epochs')\n",
    "    axs[1, 1].legend()\n",
    "    fig.savefig('plot.png')\n",
    "    fig.show()\n",
    "    "
   ]
  },
  {
   "cell_type": "code",
   "execution_count": null,
   "id": "bbdca402",
   "metadata": {},
   "outputs": [],
   "source": []
  }
 ],
 "metadata": {
  "kernelspec": {
   "display_name": "Python 3",
   "language": "python",
   "name": "python3"
  },
  "language_info": {
   "codemirror_mode": {
    "name": "ipython",
    "version": 3
   },
   "file_extension": ".py",
   "mimetype": "text/x-python",
   "name": "python",
   "nbconvert_exporter": "python",
   "pygments_lexer": "ipython3",
   "version": "3.7.0"
  }
 },
 "nbformat": 4,
 "nbformat_minor": 5
}
